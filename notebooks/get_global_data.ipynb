{
 "cells": [
  {
   "cell_type": "markdown",
   "id": "e27d2524",
   "metadata": {},
   "source": [
    "# Notebook Summary\n",
    "\n",
    "Get the global overall data for the crypto market\n",
    "\n",
    "* Get the L1 specific cryptodominance\n",
    "* Get some overall statistics of the crypto market\n",
    "\n",
    "## Things to do\n",
    "* Allow for appends to update data\n",
    "* Think of the index that should be used (esp the market cap pct table)\n",
    "* Any way to make the code more efficient?\n",
    "* Catch errors if results are not returning "
   ]
  },
  {
   "cell_type": "code",
   "execution_count": null,
   "id": "ed0eaf9e",
   "metadata": {},
   "outputs": [],
   "source": [
    "import pandas as pd\n",
    "import requests\n",
    "url = 'https://api.coingecko.com/api/v3/'"
   ]
  },
  {
   "cell_type": "code",
   "execution_count": 35,
   "id": "e9a13600",
   "metadata": {},
   "outputs": [],
   "source": [
    "endpoint = 'global'"
   ]
  },
  {
   "cell_type": "code",
   "execution_count": 37,
   "id": "5f2d5456",
   "metadata": {},
   "outputs": [],
   "source": [
    "response = requests.get(url + endpoint)\n",
    "global_crypto_json = response.json()"
   ]
  },
  {
   "cell_type": "code",
   "execution_count": 132,
   "id": "9aed8807",
   "metadata": {},
   "outputs": [],
   "source": [
    "df_raw = pd.DataFrame(global_crypto_json)"
   ]
  },
  {
   "cell_type": "code",
   "execution_count": 133,
   "id": "ed4c4239",
   "metadata": {},
   "outputs": [
    {
     "data": {
      "text/html": [
       "<div>\n",
       "<style scoped>\n",
       "    .dataframe tbody tr th:only-of-type {\n",
       "        vertical-align: middle;\n",
       "    }\n",
       "\n",
       "    .dataframe tbody tr th {\n",
       "        vertical-align: top;\n",
       "    }\n",
       "\n",
       "    .dataframe thead th {\n",
       "        text-align: right;\n",
       "    }\n",
       "</style>\n",
       "<table border=\"1\" class=\"dataframe\">\n",
       "  <thead>\n",
       "    <tr style=\"text-align: right;\">\n",
       "      <th></th>\n",
       "      <th>data</th>\n",
       "    </tr>\n",
       "  </thead>\n",
       "  <tbody>\n",
       "    <tr>\n",
       "      <th>active_cryptocurrencies</th>\n",
       "      <td>12641</td>\n",
       "    </tr>\n",
       "    <tr>\n",
       "      <th>ended_icos</th>\n",
       "      <td>3376</td>\n",
       "    </tr>\n",
       "    <tr>\n",
       "      <th>market_cap_change_percentage_24h_usd</th>\n",
       "      <td>-6.54159</td>\n",
       "    </tr>\n",
       "    <tr>\n",
       "      <th>market_cap_percentage</th>\n",
       "      <td>{'btc': 39.7743495707619, 'eth': 17.8833658333...</td>\n",
       "    </tr>\n",
       "    <tr>\n",
       "      <th>markets</th>\n",
       "      <td>747</td>\n",
       "    </tr>\n",
       "    <tr>\n",
       "      <th>ongoing_icos</th>\n",
       "      <td>49</td>\n",
       "    </tr>\n",
       "    <tr>\n",
       "      <th>total_market_cap</th>\n",
       "      <td>{'btc': 47672706.36290834, 'eth': 668923029.80...</td>\n",
       "    </tr>\n",
       "    <tr>\n",
       "      <th>total_volume</th>\n",
       "      <td>{'btc': 2206417.570452662, 'eth': 30959507.836...</td>\n",
       "    </tr>\n",
       "    <tr>\n",
       "      <th>upcoming_icos</th>\n",
       "      <td>0</td>\n",
       "    </tr>\n",
       "    <tr>\n",
       "      <th>updated_at</th>\n",
       "      <td>1645153916</td>\n",
       "    </tr>\n",
       "  </tbody>\n",
       "</table>\n",
       "</div>"
      ],
      "text/plain": [
       "                                                                                   data\n",
       "active_cryptocurrencies                                                           12641\n",
       "ended_icos                                                                         3376\n",
       "market_cap_change_percentage_24h_usd                                           -6.54159\n",
       "market_cap_percentage                 {'btc': 39.7743495707619, 'eth': 17.8833658333...\n",
       "markets                                                                             747\n",
       "ongoing_icos                                                                         49\n",
       "total_market_cap                      {'btc': 47672706.36290834, 'eth': 668923029.80...\n",
       "total_volume                          {'btc': 2206417.570452662, 'eth': 30959507.836...\n",
       "upcoming_icos                                                                         0\n",
       "updated_at                                                                   1645153916"
      ]
     },
     "execution_count": 133,
     "metadata": {},
     "output_type": "execute_result"
    }
   ],
   "source": [
    "df_raw"
   ]
  },
  {
   "cell_type": "code",
   "execution_count": 134,
   "id": "0058c6c0",
   "metadata": {},
   "outputs": [],
   "source": [
    "# Store L1 Currencies market cap percentage\n",
    "\n",
    "market_cap_pct = pd.DataFrame(\n",
    "    data=global_crypto_json['data']['market_cap_percentage'].values(),\n",
    "    index=global_crypto_json['data']['market_cap_percentage'].keys(),\n",
    "    columns=['market_cap_percentage']\n",
    ")\n",
    "\n",
    "market_cap_pct['timestamp'] = pd.to_datetime(global_crypto_json['data']['updated_at'], \n",
    "                                 unit='s')\n",
    "\n",
    "market_cap_pct['date'] = market_cap_pct['timestamp'].dt.date\n",
    "market_cap_pct['time'] = market_cap_pct['timestamp'].dt.time"
   ]
  },
  {
   "cell_type": "code",
   "execution_count": 135,
   "id": "e5dc5c60",
   "metadata": {},
   "outputs": [
    {
     "data": {
      "text/html": [
       "<div>\n",
       "<style scoped>\n",
       "    .dataframe tbody tr th:only-of-type {\n",
       "        vertical-align: middle;\n",
       "    }\n",
       "\n",
       "    .dataframe tbody tr th {\n",
       "        vertical-align: top;\n",
       "    }\n",
       "\n",
       "    .dataframe thead th {\n",
       "        text-align: right;\n",
       "    }\n",
       "</style>\n",
       "<table border=\"1\" class=\"dataframe\">\n",
       "  <thead>\n",
       "    <tr style=\"text-align: right;\">\n",
       "      <th></th>\n",
       "      <th>market_cap_percentage</th>\n",
       "      <th>timestamp</th>\n",
       "      <th>date</th>\n",
       "      <th>time</th>\n",
       "    </tr>\n",
       "  </thead>\n",
       "  <tbody>\n",
       "    <tr>\n",
       "      <th>btc</th>\n",
       "      <td>39.774350</td>\n",
       "      <td>2022-02-18 03:11:56</td>\n",
       "      <td>2022-02-18</td>\n",
       "      <td>03:11:56</td>\n",
       "    </tr>\n",
       "    <tr>\n",
       "      <th>eth</th>\n",
       "      <td>17.883366</td>\n",
       "      <td>2022-02-18 03:11:56</td>\n",
       "      <td>2022-02-18</td>\n",
       "      <td>03:11:56</td>\n",
       "    </tr>\n",
       "    <tr>\n",
       "      <th>usdt</th>\n",
       "      <td>4.051447</td>\n",
       "      <td>2022-02-18 03:11:56</td>\n",
       "      <td>2022-02-18</td>\n",
       "      <td>03:11:56</td>\n",
       "    </tr>\n",
       "    <tr>\n",
       "      <th>bnb</th>\n",
       "      <td>3.494704</td>\n",
       "      <td>2022-02-18 03:11:56</td>\n",
       "      <td>2022-02-18</td>\n",
       "      <td>03:11:56</td>\n",
       "    </tr>\n",
       "    <tr>\n",
       "      <th>usdc</th>\n",
       "      <td>2.707074</td>\n",
       "      <td>2022-02-18 03:11:56</td>\n",
       "      <td>2022-02-18</td>\n",
       "      <td>03:11:56</td>\n",
       "    </tr>\n",
       "    <tr>\n",
       "      <th>xrp</th>\n",
       "      <td>1.941978</td>\n",
       "      <td>2022-02-18 03:11:56</td>\n",
       "      <td>2022-02-18</td>\n",
       "      <td>03:11:56</td>\n",
       "    </tr>\n",
       "    <tr>\n",
       "      <th>ada</th>\n",
       "      <td>1.699401</td>\n",
       "      <td>2022-02-18 03:11:56</td>\n",
       "      <td>2022-02-18</td>\n",
       "      <td>03:11:56</td>\n",
       "    </tr>\n",
       "    <tr>\n",
       "      <th>sol</th>\n",
       "      <td>1.546135</td>\n",
       "      <td>2022-02-18 03:11:56</td>\n",
       "      <td>2022-02-18</td>\n",
       "      <td>03:11:56</td>\n",
       "    </tr>\n",
       "    <tr>\n",
       "      <th>avax</th>\n",
       "      <td>1.127266</td>\n",
       "      <td>2022-02-18 03:11:56</td>\n",
       "      <td>2022-02-18</td>\n",
       "      <td>03:11:56</td>\n",
       "    </tr>\n",
       "    <tr>\n",
       "      <th>luna</th>\n",
       "      <td>1.031428</td>\n",
       "      <td>2022-02-18 03:11:56</td>\n",
       "      <td>2022-02-18</td>\n",
       "      <td>03:11:56</td>\n",
       "    </tr>\n",
       "  </tbody>\n",
       "</table>\n",
       "</div>"
      ],
      "text/plain": [
       "      market_cap_percentage           timestamp        date      time\n",
       "btc               39.774350 2022-02-18 03:11:56  2022-02-18  03:11:56\n",
       "eth               17.883366 2022-02-18 03:11:56  2022-02-18  03:11:56\n",
       "usdt               4.051447 2022-02-18 03:11:56  2022-02-18  03:11:56\n",
       "bnb                3.494704 2022-02-18 03:11:56  2022-02-18  03:11:56\n",
       "usdc               2.707074 2022-02-18 03:11:56  2022-02-18  03:11:56\n",
       "xrp                1.941978 2022-02-18 03:11:56  2022-02-18  03:11:56\n",
       "ada                1.699401 2022-02-18 03:11:56  2022-02-18  03:11:56\n",
       "sol                1.546135 2022-02-18 03:11:56  2022-02-18  03:11:56\n",
       "avax               1.127266 2022-02-18 03:11:56  2022-02-18  03:11:56\n",
       "luna               1.031428 2022-02-18 03:11:56  2022-02-18  03:11:56"
      ]
     },
     "execution_count": 135,
     "metadata": {},
     "output_type": "execute_result"
    }
   ],
   "source": [
    "market_cap_pct"
   ]
  },
  {
   "cell_type": "code",
   "execution_count": 136,
   "id": "3ef7e8e5",
   "metadata": {},
   "outputs": [],
   "source": [
    "# Store total crypto market cap statistics\n",
    "total_market_cap_stats = pd.DataFrame(\n",
    "    \n",
    "    data = {'active_cryptocurrencies': global_crypto_json['data']['active_cryptocurrencies'],\n",
    "            'markets':global_crypto_json['data']['markets'],\n",
    "            'total_market_cap_usd':global_crypto_json['data']['total_market_cap']['usd'],\n",
    "            'timestamp': pd.to_datetime(global_crypto_json['data']['updated_at'], unit='s')},\n",
    "    \n",
    "    index=[pd.to_datetime(global_crypto_json['data']['updated_at'], unit='s').date()]\n",
    ")\n"
   ]
  },
  {
   "cell_type": "code",
   "execution_count": 137,
   "id": "75ee6591",
   "metadata": {},
   "outputs": [
    {
     "data": {
      "text/html": [
       "<div>\n",
       "<style scoped>\n",
       "    .dataframe tbody tr th:only-of-type {\n",
       "        vertical-align: middle;\n",
       "    }\n",
       "\n",
       "    .dataframe tbody tr th {\n",
       "        vertical-align: top;\n",
       "    }\n",
       "\n",
       "    .dataframe thead th {\n",
       "        text-align: right;\n",
       "    }\n",
       "</style>\n",
       "<table border=\"1\" class=\"dataframe\">\n",
       "  <thead>\n",
       "    <tr style=\"text-align: right;\">\n",
       "      <th></th>\n",
       "      <th>active_cryptocurrencies</th>\n",
       "      <th>markets</th>\n",
       "      <th>total_market_cap_usd</th>\n",
       "      <th>timestamp</th>\n",
       "    </tr>\n",
       "  </thead>\n",
       "  <tbody>\n",
       "    <tr>\n",
       "      <th>2022-02-18</th>\n",
       "      <td>12641</td>\n",
       "      <td>747</td>\n",
       "      <td>1.944854e+12</td>\n",
       "      <td>2022-02-18 03:11:56</td>\n",
       "    </tr>\n",
       "  </tbody>\n",
       "</table>\n",
       "</div>"
      ],
      "text/plain": [
       "            active_cryptocurrencies  markets  total_market_cap_usd  \\\n",
       "2022-02-18                    12641      747          1.944854e+12   \n",
       "\n",
       "                     timestamp  \n",
       "2022-02-18 2022-02-18 03:11:56  "
      ]
     },
     "execution_count": 137,
     "metadata": {},
     "output_type": "execute_result"
    }
   ],
   "source": [
    "total_market_cap_stats"
   ]
  }
 ],
 "metadata": {
  "kernelspec": {
   "display_name": "Python 3 (ipykernel)",
   "language": "python",
   "name": "python3"
  },
  "language_info": {
   "codemirror_mode": {
    "name": "ipython",
    "version": 3
   },
   "file_extension": ".py",
   "mimetype": "text/x-python",
   "name": "python",
   "nbconvert_exporter": "python",
   "pygments_lexer": "ipython3",
   "version": "3.9.5"
  }
 },
 "nbformat": 4,
 "nbformat_minor": 5
}
